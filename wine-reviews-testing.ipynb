{
 "cells": [
  {
   "cell_type": "code",
   "execution_count": 60,
   "metadata": {},
   "outputs": [],
   "source": [
    "import requests\n",
    "import re\n",
    "from bs4 import BeautifulSoup\n",
    "from typing import Dict, Any\n",
    "from wine_reviews.scrape import get_review_page, parse_review_card, HEADERS"
   ]
  },
  {
   "cell_type": "code",
   "execution_count": 2,
   "metadata": {},
   "outputs": [],
   "source": [
    "review = get_review_page(1)"
   ]
  },
  {
   "cell_type": "code",
   "execution_count": 4,
   "metadata": {},
   "outputs": [],
   "source": [
    "review_cards = review.find_all(\"li\", {\"class\": \"review-item\"})"
   ]
  },
  {
   "cell_type": "code",
   "execution_count": 7,
   "metadata": {},
   "outputs": [],
   "source": [
    "review_cards_parsed = [\n",
    "    parse_review_card(x) for x in review_cards\n",
    "]\n"
   ]
  },
  {
   "cell_type": "code",
   "execution_count": 10,
   "metadata": {},
   "outputs": [
    {
     "data": {
      "text/plain": [
       "['https://www.winemag.com/buying-guide/felton-road-2019-block-5-pinot-noir-central-otago/',\n",
       " 'Felton Road 2019 Block 5 Pinot Noir (Central Otago)',\n",
       " 'New Zealand',\n",
       " '97 Points',\n",
       " '$84']"
      ]
     },
     "execution_count": 10,
     "metadata": {},
     "output_type": "execute_result"
    }
   ],
   "source": [
    "review_cards_parsed[0]"
   ]
  },
  {
   "cell_type": "code",
   "execution_count": 11,
   "metadata": {},
   "outputs": [
    {
     "data": {
      "text/plain": [
       "20"
      ]
     },
     "execution_count": 11,
     "metadata": {},
     "output_type": "execute_result"
    }
   ],
   "source": [
    "len(review_cards_parsed)"
   ]
  },
  {
   "cell_type": "code",
   "execution_count": 15,
   "metadata": {},
   "outputs": [],
   "source": [
    "with requests.Session() as sesh:\n",
    "    response = sesh.get(review_cards_parsed[0][0], headers=HEADERS)\n",
    "content = BeautifulSoup(response.content, 'html.parser')"
   ]
  },
  {
   "cell_type": "code",
   "execution_count": 20,
   "metadata": {},
   "outputs": [],
   "source": [
    "test = content.find(\"meta\", {\"content\": \"Wine Reviews\"})"
   ]
  },
  {
   "cell_type": "code",
   "execution_count": 32,
   "metadata": {},
   "outputs": [
    {
     "data": {
      "text/plain": [
       "1"
      ]
     },
     "execution_count": 32,
     "metadata": {},
     "output_type": "execute_result"
    }
   ],
   "source": [
    "import json\n",
    "all_json = content.find_all(\"script\", {\"type\":\"application/ld+json\"})\n",
    "len(all_json[1].contents)"
   ]
  },
  {
   "cell_type": "code",
   "execution_count": 40,
   "metadata": {},
   "outputs": [
    {
     "data": {
      "text/plain": [
       "{'@context': 'https://schema.org',\n",
       " '@type': 'Product',\n",
       " 'image': 'https://www.winemag.com/wp-content/assets/reviews/label-images/wine/Wine_Default_label.jpg',\n",
       " 'name': 'Felton Road 2019 Block 5 Pinot Noir (Central Otago)',\n",
       " 'category': 'Red',\n",
       " 'review': {'@type': 'Review',\n",
       "  'name': 'Felton Road 2019 Block 5 Pinot Noir (Central Otago)',\n",
       "  'reviewRating': {'@type': 'Rating', 'bestRating': 100, 'ratingValue': '97'},\n",
       "  'author': {'@type': 'Person', 'name': 'Christina Pickard'},\n",
       "  'datePublished': '1970-01-01T00:00:00+00:00',\n",
       "  'reviewBody': 'This is one of the most gorgeous bottlings of FR Pinot this reviewer has tasted in recent years. Ethereal, aromatic and complete, it threads together notes of fresh berries, violet, rose petal, earthy spice and a stony minerality. Tannins are Nebbiolo-like in their texture, power and downright sexiness, intricately woven into the wine. Drinking beautifully now, it has the capacity to hold for another decade, at least.',\n",
       "  'publisher': {'@type': 'Organization',\n",
       "   'name': 'Wine Enthusiast',\n",
       "   'address': '200 Summit Lake Drive Valhalla, NY 10595',\n",
       "   'logo': {'@type': 'imageObject',\n",
       "    'url': 'https://www.winemag.com/wp-content/themes/TrellisFoundation-child/assets/img/we_logo_mag_black_600x113.png',\n",
       "    'width': 319,\n",
       "    'height': 60}},\n",
       "  'isAccessibleForFree': 'False',\n",
       "  'hasPart': {'@type': 'WebPageElement',\n",
       "   'isAccessibleForFree': 'False',\n",
       "   'cssSelector': '.bg-gated'}}}"
      ]
     },
     "execution_count": 40,
     "metadata": {},
     "output_type": "execute_result"
    }
   ],
   "source": [
    "json.loads(all_json[1].contents[0])"
   ]
  },
  {
   "cell_type": "code",
   "execution_count": 96,
   "metadata": {},
   "outputs": [],
   "source": [
    "a=content.find_all(\"meta\", {\"name\": \"pubDate\"})[0]"
   ]
  },
  {
   "cell_type": "code",
   "execution_count": 97,
   "metadata": {},
   "outputs": [
    {
     "data": {
      "text/plain": [
       "'December 31, 2021'"
      ]
     },
     "execution_count": 97,
     "metadata": {},
     "output_type": "execute_result"
    }
   ],
   "source": [
    "a['content']"
   ]
  },
  {
   "cell_type": "code",
   "execution_count": 89,
   "metadata": {},
   "outputs": [],
   "source": [
    "json_blogpost_contents = [\n",
    "    \"@context\",\n",
    "    \"@type\",\n",
    "    \"image\",\n",
    "    \"name\",\n",
    "    \"category\",\n",
    "    \"review\"\n",
    "]\n",
    "\n",
    "def get_json_review_contents(content: BeautifulSoup):\n",
    "    all_json = content.find_all(\"script\", {\"type\":\"application/ld+json\"})\n",
    "    json_loaded = [\n",
    "        json.loads(x.contents[0]) for x in all_json if len(x.contents) == 1\n",
    "    ]\n",
    "\n",
    "    for j in json_loaded:\n",
    "        correct_keys = [x for x in j.keys() if x in json_blogpost_contents]\n",
    "        if len(correct_keys) == len(json_blogpost_contents):\n",
    "            return j\n",
    "\n",
    "    return None\n",
    "\n",
    "year_finder = re.compile(r\"\\d{4}\")\n",
    "appellation_finder = re.compile('\\((.*?)\\)')"
   ]
  },
  {
   "cell_type": "code",
   "execution_count": 90,
   "metadata": {},
   "outputs": [],
   "source": [
    "json_review = get_json_review_contents(content)\n",
    "\n",
    "def get_values_from_json(json_review: Dict[str, Any]) -> Dict[str, Any]:\n",
    "    values = {}\n",
    "    values['category'] = json_review['category']\n",
    "    values['author'] = json_review['review']['author']['name']\n",
    "    values['body'] = json_review['review']['reviewBody']\n",
    "    values['rating'] = int(json_review['review']['reviewRating']['ratingValue'])\n",
    "\n",
    "    # extract info from name\n",
    "    name = json_review['review']['name']\n",
    "    yearlike = year_finder.findall(name)\n",
    "\n",
    "    if len(yearlike) != 1:\n",
    "        print(f'Multiple year-like values found in {name}')\n",
    "    \n",
    "    appellationlike = appellation_finder.findall(name)\n",
    "\n",
    "    if len(appellationlike) != 1:\n",
    "        print(f\"Multiple appellation-like values found in {name}\")\n",
    "    \n",
    "    values['year'] = yearlike[0]\n",
    "    values['appellation'] = appellationlike[0]\n",
    "    values['title'] = name\n",
    "\n",
    "    return values\n",
    "\n",
    "\n"
   ]
  },
  {
   "cell_type": "code",
   "execution_count": 82,
   "metadata": {},
   "outputs": [],
   "source": [
    "name = json_review['review']['name']"
   ]
  },
  {
   "cell_type": "code",
   "execution_count": 55,
   "metadata": {},
   "outputs": [],
   "source": [
    "import re"
   ]
  },
  {
   "cell_type": "code",
   "execution_count": 81,
   "metadata": {},
   "outputs": [
    {
     "data": {
      "text/plain": [
       "'2019'"
      ]
     },
     "execution_count": 81,
     "metadata": {},
     "output_type": "execute_result"
    }
   ],
   "source": [
    "year_finder.findall(json_review['review']['name'])[0]"
   ]
  },
  {
   "cell_type": "code",
   "execution_count": 84,
   "metadata": {},
   "outputs": [
    {
     "data": {
      "text/plain": [
       "['Central Otago']"
      ]
     },
     "execution_count": 84,
     "metadata": {},
     "output_type": "execute_result"
    }
   ],
   "source": [
    "re.findall('\\((.*?)\\)', name)"
   ]
  },
  {
   "cell_type": "code",
   "execution_count": 85,
   "metadata": {},
   "outputs": [
    {
     "data": {
      "text/plain": [
       "{'@context': 'https://schema.org',\n",
       " '@type': 'Product',\n",
       " 'image': 'https://www.winemag.com/wp-content/assets/reviews/label-images/wine/Wine_Default_label.jpg',\n",
       " 'name': 'Felton Road 2019 Block 5 Pinot Noir (Central Otago)',\n",
       " 'category': 'Red',\n",
       " 'review': {'@type': 'Review',\n",
       "  'name': 'Felton Road 2019 Block 5 Pinot Noir (Central Otago)',\n",
       "  'reviewRating': {'@type': 'Rating', 'bestRating': 100, 'ratingValue': '97'},\n",
       "  'author': {'@type': 'Person', 'name': 'Christina Pickard'},\n",
       "  'datePublished': '1970-01-01T00:00:00+00:00',\n",
       "  'reviewBody': 'This is one of the most gorgeous bottlings of FR Pinot this reviewer has tasted in recent years. Ethereal, aromatic and complete, it threads together notes of fresh berries, violet, rose petal, earthy spice and a stony minerality. Tannins are Nebbiolo-like in their texture, power and downright sexiness, intricately woven into the wine. Drinking beautifully now, it has the capacity to hold for another decade, at least.',\n",
       "  'publisher': {'@type': 'Organization',\n",
       "   'name': 'Wine Enthusiast',\n",
       "   'address': '200 Summit Lake Drive Valhalla, NY 10595',\n",
       "   'logo': {'@type': 'imageObject',\n",
       "    'url': 'https://www.winemag.com/wp-content/themes/TrellisFoundation-child/assets/img/we_logo_mag_black_600x113.png',\n",
       "    'width': 319,\n",
       "    'height': 60}},\n",
       "  'isAccessibleForFree': 'False',\n",
       "  'hasPart': {'@type': 'WebPageElement',\n",
       "   'isAccessibleForFree': 'False',\n",
       "   'cssSelector': '.bg-gated'}}}"
      ]
     },
     "execution_count": 85,
     "metadata": {},
     "output_type": "execute_result"
    }
   ],
   "source": [
    "json_review"
   ]
  },
  {
   "cell_type": "code",
   "execution_count": 91,
   "metadata": {},
   "outputs": [
    {
     "data": {
      "text/plain": [
       "{'category': 'Red',\n",
       " 'author': 'Christina Pickard',\n",
       " 'body': 'This is one of the most gorgeous bottlings of FR Pinot this reviewer has tasted in recent years. Ethereal, aromatic and complete, it threads together notes of fresh berries, violet, rose petal, earthy spice and a stony minerality. Tannins are Nebbiolo-like in their texture, power and downright sexiness, intricately woven into the wine. Drinking beautifully now, it has the capacity to hold for another decade, at least.',\n",
       " 'rating': 97,\n",
       " 'year': '2019',\n",
       " 'appellation': 'Central Otago'}"
      ]
     },
     "execution_count": 91,
     "metadata": {},
     "output_type": "execute_result"
    }
   ],
   "source": [
    "get_values_from_json(json_review)"
   ]
  },
  {
   "cell_type": "code",
   "execution_count": 92,
   "metadata": {},
   "outputs": [
    {
     "data": {
      "text/plain": [
       "['https://www.winemag.com/buying-guide/felton-road-2019-block-5-pinot-noir-central-otago/',\n",
       " 'Felton Road 2019 Block 5 Pinot Noir (Central Otago)',\n",
       " 'New Zealand',\n",
       " '97 Points',\n",
       " '$84']"
      ]
     },
     "execution_count": 92,
     "metadata": {},
     "output_type": "execute_result"
    }
   ],
   "source": [
    "review_cards_parsed[0]"
   ]
  },
  {
   "cell_type": "code",
   "execution_count": null,
   "metadata": {},
   "outputs": [],
   "source": []
  }
 ],
 "metadata": {
  "interpreter": {
   "hash": "cf693a3efb95d7a64d191986784af898e975240855652960ce8ae97430ab6b2e"
  },
  "kernelspec": {
   "display_name": "Python 3.8.5 64-bit ('wine-reviews-u4TyU-vk-py3.8': poetry)",
   "language": "python",
   "name": "python3"
  },
  "language_info": {
   "codemirror_mode": {
    "name": "ipython",
    "version": 3
   },
   "file_extension": ".py",
   "mimetype": "text/x-python",
   "name": "python",
   "nbconvert_exporter": "python",
   "pygments_lexer": "ipython3",
   "version": "3.8.5"
  },
  "orig_nbformat": 4
 },
 "nbformat": 4,
 "nbformat_minor": 2
}
